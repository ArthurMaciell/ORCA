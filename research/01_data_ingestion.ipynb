{
 "cells": [
  {
   "cell_type": "code",
   "execution_count": 1,
   "id": "bf93a42c",
   "metadata": {},
   "outputs": [],
   "source": [
    "import os"
   ]
  },
  {
   "cell_type": "code",
   "execution_count": 2,
   "id": "4761d0a2",
   "metadata": {},
   "outputs": [
    {
     "data": {
      "text/plain": [
       "'c:\\\\Users\\\\Orçamento\\\\ONE DRIVE ORCAMENTO\\\\OneDrive - GRUPO RETEC\\\\02. Engenharia\\\\IA\\\\ORCA\\\\research'"
      ]
     },
     "execution_count": 2,
     "metadata": {},
     "output_type": "execute_result"
    }
   ],
   "source": [
    "%pwd"
   ]
  },
  {
   "cell_type": "code",
   "execution_count": 3,
   "id": "62e58735",
   "metadata": {},
   "outputs": [],
   "source": [
    "os.chdir('../')"
   ]
  },
  {
   "cell_type": "code",
   "execution_count": 4,
   "id": "9a4032ec",
   "metadata": {},
   "outputs": [
    {
     "data": {
      "text/plain": [
       "'c:\\\\Users\\\\Orçamento\\\\ONE DRIVE ORCAMENTO\\\\OneDrive - GRUPO RETEC\\\\02. Engenharia\\\\IA\\\\ORCA'"
      ]
     },
     "execution_count": 4,
     "metadata": {},
     "output_type": "execute_result"
    }
   ],
   "source": [
    "%pwd"
   ]
  },
  {
   "cell_type": "markdown",
   "id": "bab5fe4e",
   "metadata": {},
   "source": [
    "### === ENTITY (dataclass) === ###"
   ]
  },
  {
   "cell_type": "code",
   "execution_count": 12,
   "id": "4ffc84ea",
   "metadata": {},
   "outputs": [],
   "source": [
    "import os\n",
    "from pathlib import Path\n",
    "from dataclasses import dataclass"
   ]
  },
  {
   "cell_type": "code",
   "execution_count": 13,
   "id": "6ca6212f",
   "metadata": {},
   "outputs": [],
   "source": [
    "@dataclass(frozen=True)\n",
    "class DataIngestionConfig:\n",
    "    root_dir: Path\n",
    "    local_data_file: Path"
   ]
  },
  {
   "cell_type": "markdown",
   "id": "253fcad9",
   "metadata": {},
   "source": [
    "### === CONFIGURATION MANAGER === ###"
   ]
  },
  {
   "cell_type": "code",
   "execution_count": 14,
   "id": "8ae05a2e",
   "metadata": {},
   "outputs": [],
   "source": [
    "from ORCA.constants import *\n",
    "from ORCA.utils.common import read_yaml, create_directories"
   ]
  },
  {
   "cell_type": "code",
   "execution_count": 15,
   "id": "0dbc0a8e",
   "metadata": {},
   "outputs": [],
   "source": [
    "class ConfigurationManager:\n",
    "    def __init__(self, config_filepath=CONFIG_FILE_PATH):\n",
    "        self.config = read_yaml(config_filepath)\n",
    "        create_directories([self.config['artifacts_root']])\n",
    "\n",
    "    def get_data_ingestion_config(self) -> DataIngestionConfig:\n",
    "        config = self.config['data_ingestion']\n",
    "        create_directories([config['root_dir']])\n",
    "\n",
    "        return DataIngestionConfig(\n",
    "            root_dir=Path(config['root_dir']),\n",
    "            local_data_file=Path(config['local_data_file'])\n",
    "        )"
   ]
  },
  {
   "cell_type": "markdown",
   "id": "5eb36f02",
   "metadata": {},
   "source": [
    "### === PIPELINE === ###"
   ]
  },
  {
   "cell_type": "code",
   "execution_count": 16,
   "id": "00a8644e",
   "metadata": {},
   "outputs": [],
   "source": [
    "from ORCA.utils.common import get_size\n",
    "from ORCA import logger"
   ]
  },
  {
   "cell_type": "code",
   "execution_count": 17,
   "id": "bb56348d",
   "metadata": {},
   "outputs": [],
   "source": [
    "class DataIngestion:\n",
    "    def __init__(self, config: DataIngestionConfig):\n",
    "        self.config = config\n",
    "\n",
    "    def verify_local_file(self):\n",
    "        path = self.config.local_data_file\n",
    "        if os.path.exists(path):\n",
    "            logger.info(f\"Arquivo encontrado: {path} ({get_size(Path(path))})\")\n",
    "        else:\n",
    "            raise FileNotFoundError(f\"O arquivo {path} não foi encontrado. Coloque o Excel nessa pasta.\")"
   ]
  },
  {
   "cell_type": "markdown",
   "id": "edc5aba5",
   "metadata": {},
   "source": [
    "### === EXECUÇÃO DO TESTE === ###"
   ]
  },
  {
   "cell_type": "code",
   "execution_count": 19,
   "id": "7a1be55c",
   "metadata": {},
   "outputs": [
    {
     "name": "stdout",
     "output_type": "stream",
     "text": [
      "[2025-07-23 14:09:29,401: INFO: common: yaml file: config\\config.yaml loaded successfully]\n",
      "[2025-07-23 14:09:29,404: INFO: common: created directory at: artifacts]\n",
      "[2025-07-23 14:09:29,405: INFO: common: created directory at: artifacts/data_ingestion]\n",
      "[2025-07-23 14:09:29,407: INFO: 201126324: Arquivo encontrado: artifacts\\data_ingestion\\itens.xlsx (~ 849 KB)]\n"
     ]
    }
   ],
   "source": [
    "try:\n",
    "    config = ConfigurationManager()\n",
    "    data_ingestion_config = config.get_data_ingestion_config()\n",
    "    data_ingestion = DataIngestion(config=data_ingestion_config)\n",
    "    data_ingestion.verify_local_file()\n",
    "except Exception as e:\n",
    "    raise e"
   ]
  }
 ],
 "metadata": {
  "kernelspec": {
   "display_name": ".orcaenv",
   "language": "python",
   "name": "python3"
  },
  "language_info": {
   "codemirror_mode": {
    "name": "ipython",
    "version": 3
   },
   "file_extension": ".py",
   "mimetype": "text/x-python",
   "name": "python",
   "nbconvert_exporter": "python",
   "pygments_lexer": "ipython3",
   "version": "3.12.9"
  }
 },
 "nbformat": 4,
 "nbformat_minor": 5
}
