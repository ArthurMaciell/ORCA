{
 "cells": [
  {
   "cell_type": "code",
   "execution_count": 1,
   "id": "90796a54",
   "metadata": {},
   "outputs": [],
   "source": [
    "import os"
   ]
  },
  {
   "cell_type": "code",
   "execution_count": 2,
   "id": "8d3a7aca",
   "metadata": {},
   "outputs": [
    {
     "data": {
      "text/plain": [
       "'c:\\\\Users\\\\Orçamento\\\\ONE DRIVE ORCAMENTO\\\\OneDrive - GRUPO RETEC\\\\02. Engenharia\\\\IA\\\\ORCA\\\\research'"
      ]
     },
     "execution_count": 2,
     "metadata": {},
     "output_type": "execute_result"
    }
   ],
   "source": [
    "%pwd"
   ]
  },
  {
   "cell_type": "code",
   "execution_count": 4,
   "id": "752f3b4d",
   "metadata": {},
   "outputs": [],
   "source": [
    "os.chdir('../')"
   ]
  },
  {
   "cell_type": "code",
   "execution_count": 5,
   "id": "72e75f83",
   "metadata": {},
   "outputs": [
    {
     "data": {
      "text/plain": [
       "'c:\\\\Users\\\\Orçamento\\\\ONE DRIVE ORCAMENTO\\\\OneDrive - GRUPO RETEC\\\\02. Engenharia\\\\IA\\\\ORCA'"
      ]
     },
     "execution_count": 5,
     "metadata": {},
     "output_type": "execute_result"
    }
   ],
   "source": [
    "%pwd"
   ]
  },
  {
   "cell_type": "markdown",
   "id": "e35ae93b",
   "metadata": {},
   "source": [
    "# === ENTITY ==="
   ]
  },
  {
   "cell_type": "code",
   "execution_count": 38,
   "id": "86d69297",
   "metadata": {},
   "outputs": [],
   "source": [
    "from dataclasses import dataclass\n",
    "from pathlib import Path\n",
    "\n",
    "\n",
    "@dataclass(frozen=True)\n",
    "class ModelTrainerConfig:\n",
    "    root_dir: Path\n",
    "    train_data_path: Path\n",
    "    test_data_path: Path\n",
    "    model_name: str\n",
    "    learning_rate: float\n",
    "    n_estimators: float\n",
    "    target_column: float"
   ]
  },
  {
   "cell_type": "markdown",
   "id": "465ffbb9",
   "metadata": {},
   "source": [
    "# === CONFIGURATION MANAGER ==="
   ]
  },
  {
   "cell_type": "code",
   "execution_count": 39,
   "id": "a8a8a806",
   "metadata": {},
   "outputs": [],
   "source": [
    "from ORCA.constants import *\n",
    "from ORCA.utils.common import read_yaml, create_directories"
   ]
  },
  {
   "cell_type": "code",
   "execution_count": 40,
   "id": "bb256120",
   "metadata": {},
   "outputs": [],
   "source": [
    "class ConfigurationManager:\n",
    "    def __init__(\n",
    "        self,\n",
    "        config_filepath = CONFIG_FILE_PATH,\n",
    "        params_filepath = PARAMS_FILE_PATH,\n",
    "        schema_filepath = SCHEMA_FILE_PATH):\n",
    "\n",
    "        self.config = read_yaml(config_filepath)\n",
    "        self.params = read_yaml(params_filepath)\n",
    "        self.schema = read_yaml(schema_filepath)\n",
    "\n",
    "        create_directories([self.config.artifacts_root])\n",
    "\n",
    "\n",
    "    def get_model_trainer_config(self) -> ModelTrainerConfig:\n",
    "        config = self.config.model_trainer\n",
    "        params = self.params.XGBoosting\n",
    "        schema =  self.schema.TARGET_COLUMN\n",
    "\n",
    "        create_directories([config.root_dir])\n",
    "\n",
    "        model_trainer_config = ModelTrainerConfig(\n",
    "            root_dir=config.root_dir,\n",
    "            train_data_path = config.train_data_path,\n",
    "            test_data_path = config.test_data_path,\n",
    "            model_name = config.model_name,\n",
    "            learning_rate = params.learning_rate,\n",
    "            n_estimators = params.n_estimators,\n",
    "            target_column = schema.name\n",
    "            \n",
    "        )\n",
    "\n",
    "        return model_trainer_config"
   ]
  },
  {
   "cell_type": "markdown",
   "id": "c7db5887",
   "metadata": {},
   "source": [
    "# === COMPONENT ==="
   ]
  },
  {
   "cell_type": "code",
   "execution_count": 41,
   "id": "e0ea392c",
   "metadata": {},
   "outputs": [],
   "source": [
    "import pandas as pd\n",
    "import os\n",
    "from ORCA import logger\n",
    "from sklearn.linear_model import ElasticNet\n",
    "import joblib"
   ]
  },
  {
   "cell_type": "code",
   "execution_count": 42,
   "id": "24f1234f",
   "metadata": {},
   "outputs": [],
   "source": [
    "import pandas as pd\n",
    "import numpy as np\n",
    "import matplotlib.pyplot as plt\n",
    "import seaborn as sns\n",
    "import openpyxl\n",
    "from statsmodels.stats.outliers_influence import variance_inflation_factor\n",
    "\n",
    "from statsmodels.tools import add_constant\n",
    "from sklearn.ensemble import RandomForestRegressor\n",
    "from sklearn.decomposition import PCA\n",
    "from sklearn.model_selection import train_test_split\n",
    "from sklearn.preprocessing import StandardScaler\n",
    "from sklearn.linear_model import LinearRegression\n",
    "from sklearn.ensemble import RandomForestRegressor\n",
    "from xgboost import XGBRegressor\n",
    "from sklearn.metrics import mean_absolute_error, mean_squared_error, r2_score\n",
    "from sklearn.metrics import make_scorer, mean_absolute_error\n",
    "from sklearn.model_selection import cross_val_score\n",
    "import joblib\n",
    "import optuna"
   ]
  },
  {
   "cell_type": "code",
   "execution_count": 45,
   "id": "0c437259",
   "metadata": {},
   "outputs": [],
   "source": [
    "class ModelTrainer:\n",
    "    def __init__(self, config: ModelTrainerConfig):\n",
    "        self.config = config\n",
    "\n",
    "    \n",
    "    def train(self):\n",
    "        train_data = pd.read_excel(self.config.train_data_path)\n",
    "        test_data = pd.read_excel(self.config.test_data_path)\n",
    "\n",
    "        train_x = train_data.drop([self.config.target_column], axis=1)\n",
    "        test_x = test_data.drop([self.config.target_column], axis=1)\n",
    "        train_y = train_data[[self.config.target_column]]\n",
    "        test_y = test_data[[self.config.target_column]]\n",
    "        y_train_log = np.log1p(train_y)\n",
    "        y_test_log = np.log1p(test_y)\n",
    "\n",
    "        model = XGBRegressor(\n",
    "            learning_rate=self.config.learning_rate,\n",
    "            max_depth=5,\n",
    "            n_estimators=self.config.n_estimators,\n",
    "            subsample=0.8,\n",
    "            colsample_bytree=1,\n",
    "            colsample_bynode=0.75,\n",
    "            gamma=0,\n",
    "            min_child_weight=1,\n",
    "            reg_alpha=0.1,\n",
    "            reg_lambda=1,\n",
    "            objective='reg:squarederror'\n",
    "        )\n",
    "        model.fit(train_x, y_train_log)\n",
    "\n",
    "        joblib.dump(model, os.path.join(self.config.root_dir, self.config.model_name))\n",
    "\n"
   ]
  },
  {
   "cell_type": "code",
   "execution_count": 46,
   "id": "67ca33ef",
   "metadata": {},
   "outputs": [
    {
     "name": "stdout",
     "output_type": "stream",
     "text": [
      "[2025-07-25 16:10:47,696: INFO: common: yaml file: config\\config.yaml loaded successfully]\n",
      "[2025-07-25 16:10:47,701: INFO: common: yaml file: params.yaml loaded successfully]\n",
      "[2025-07-25 16:10:47,710: INFO: common: yaml file: schema.yaml loaded successfully]\n",
      "[2025-07-25 16:10:47,713: INFO: common: created directory at: artifacts]\n",
      "[2025-07-25 16:10:47,717: INFO: common: created directory at: artifacts/model_trainer]\n"
     ]
    }
   ],
   "source": [
    "try:\n",
    "    config = ConfigurationManager()\n",
    "    model_trainer_config = config.get_model_trainer_config()\n",
    "    model_trainer_config = ModelTrainer(config=model_trainer_config)\n",
    "    model_trainer_config.train()\n",
    "except Exception as e:\n",
    "    raise e"
   ]
  }
 ],
 "metadata": {
  "kernelspec": {
   "display_name": ".orcaenv",
   "language": "python",
   "name": "python3"
  },
  "language_info": {
   "codemirror_mode": {
    "name": "ipython",
    "version": 3
   },
   "file_extension": ".py",
   "mimetype": "text/x-python",
   "name": "python",
   "nbconvert_exporter": "python",
   "pygments_lexer": "ipython3",
   "version": "3.12.9"
  }
 },
 "nbformat": 4,
 "nbformat_minor": 5
}
